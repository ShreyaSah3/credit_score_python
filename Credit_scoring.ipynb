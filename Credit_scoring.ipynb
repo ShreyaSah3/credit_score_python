{
 "cells": [
  {
   "cell_type": "code",
   "execution_count": 232,
   "id": "64b2b422-2bec-40d4-86e5-e72b5e5195ff",
   "metadata": {},
   "outputs": [],
   "source": [
    "import pandas as pd\n",
    "import numpy as np"
   ]
  },
  {
   "cell_type": "code",
   "execution_count": 234,
   "id": "8b4268b4-e9cf-4344-a1d3-1c5d2f20eef5",
   "metadata": {},
   "outputs": [],
   "source": [
    "from sklearn.model_selection import train_test_split\n",
    "from sklearn.preprocessing import StandardScaler\n",
    "from sklearn.metrics import classification_report, confusion_matrix, accuracy_score, precision_score, recall_score,roc_auc_score, f1_score\n",
    "from sklearn.linear_model import LogisticRegression"
   ]
  },
  {
   "cell_type": "code",
   "execution_count": 236,
   "id": "f7bcea2c-7140-4950-aa7f-841b2c79785d",
   "metadata": {},
   "outputs": [],
   "source": [
    "dataset = pd.read_excel(r\"C:\\Users\\Shreya\\Downloads\\Credit_scoring_project\\a_Dataset_CreditScoring.xlsx\")"
   ]
  },
  {
   "cell_type": "code",
   "execution_count": 237,
   "id": "62a12bca-695e-4dff-9b99-b3fd37bc874b",
   "metadata": {},
   "outputs": [
    {
     "data": {
      "text/plain": [
       "(3000, 30)"
      ]
     },
     "execution_count": 237,
     "metadata": {},
     "output_type": "execute_result"
    }
   ],
   "source": [
    "## Exploeing the dataset\n",
    "dataset.shape"
   ]
  },
  {
   "cell_type": "code",
   "execution_count": 238,
   "id": "2cd79def-6f62-4492-8f0a-b554120dbef1",
   "metadata": {},
   "outputs": [
    {
     "data": {
      "text/html": [
       "<div>\n",
       "<style scoped>\n",
       "    .dataframe tbody tr th:only-of-type {\n",
       "        vertical-align: middle;\n",
       "    }\n",
       "\n",
       "    .dataframe tbody tr th {\n",
       "        vertical-align: top;\n",
       "    }\n",
       "\n",
       "    .dataframe thead th {\n",
       "        text-align: right;\n",
       "    }\n",
       "</style>\n",
       "<table border=\"1\" class=\"dataframe\">\n",
       "  <thead>\n",
       "    <tr style=\"text-align: right;\">\n",
       "      <th></th>\n",
       "      <th>TARGET</th>\n",
       "      <th>ID</th>\n",
       "      <th>DerogCnt</th>\n",
       "      <th>CollectCnt</th>\n",
       "      <th>BanruptcyInd</th>\n",
       "      <th>InqCnt06</th>\n",
       "      <th>InqTimeLast</th>\n",
       "      <th>InqFinanceCnt24</th>\n",
       "      <th>TLTimeFirst</th>\n",
       "      <th>TLTimeLast</th>\n",
       "      <th>...</th>\n",
       "      <th>TL50UtilCnt</th>\n",
       "      <th>TLBalHCPct</th>\n",
       "      <th>TLSatPct</th>\n",
       "      <th>TLDel3060Cnt24</th>\n",
       "      <th>TLDel90Cnt24</th>\n",
       "      <th>TLDel60CntAll</th>\n",
       "      <th>TLOpenPct</th>\n",
       "      <th>TLBadDerogCnt</th>\n",
       "      <th>TLDel60Cnt24</th>\n",
       "      <th>TLOpen24Pct</th>\n",
       "    </tr>\n",
       "  </thead>\n",
       "  <tbody>\n",
       "    <tr>\n",
       "      <th>0</th>\n",
       "      <td>1</td>\n",
       "      <td>582</td>\n",
       "      <td>3</td>\n",
       "      <td>3</td>\n",
       "      <td>0</td>\n",
       "      <td>4</td>\n",
       "      <td>0.0</td>\n",
       "      <td>5</td>\n",
       "      <td>117</td>\n",
       "      <td>27</td>\n",
       "      <td>...</td>\n",
       "      <td>3.0</td>\n",
       "      <td>0.9179</td>\n",
       "      <td>0.2083</td>\n",
       "      <td>2</td>\n",
       "      <td>3</td>\n",
       "      <td>7</td>\n",
       "      <td>0.2083</td>\n",
       "      <td>4</td>\n",
       "      <td>4</td>\n",
       "      <td>0.0000</td>\n",
       "    </tr>\n",
       "    <tr>\n",
       "      <th>1</th>\n",
       "      <td>1</td>\n",
       "      <td>662</td>\n",
       "      <td>15</td>\n",
       "      <td>9</td>\n",
       "      <td>0</td>\n",
       "      <td>3</td>\n",
       "      <td>1.0</td>\n",
       "      <td>3</td>\n",
       "      <td>14</td>\n",
       "      <td>14</td>\n",
       "      <td>...</td>\n",
       "      <td>1.0</td>\n",
       "      <td>0.8000</td>\n",
       "      <td>0.0000</td>\n",
       "      <td>0</td>\n",
       "      <td>0</td>\n",
       "      <td>0</td>\n",
       "      <td>1.0000</td>\n",
       "      <td>12</td>\n",
       "      <td>0</td>\n",
       "      <td>1.0000</td>\n",
       "    </tr>\n",
       "    <tr>\n",
       "      <th>2</th>\n",
       "      <td>1</td>\n",
       "      <td>805</td>\n",
       "      <td>0</td>\n",
       "      <td>0</td>\n",
       "      <td>0</td>\n",
       "      <td>1</td>\n",
       "      <td>5.0</td>\n",
       "      <td>1</td>\n",
       "      <td>354</td>\n",
       "      <td>7</td>\n",
       "      <td>...</td>\n",
       "      <td>5.0</td>\n",
       "      <td>0.3552</td>\n",
       "      <td>0.6538</td>\n",
       "      <td>0</td>\n",
       "      <td>1</td>\n",
       "      <td>1</td>\n",
       "      <td>0.7308</td>\n",
       "      <td>1</td>\n",
       "      <td>1</td>\n",
       "      <td>0.5263</td>\n",
       "    </tr>\n",
       "    <tr>\n",
       "      <th>3</th>\n",
       "      <td>1</td>\n",
       "      <td>1175</td>\n",
       "      <td>8</td>\n",
       "      <td>5</td>\n",
       "      <td>0</td>\n",
       "      <td>6</td>\n",
       "      <td>1.0</td>\n",
       "      <td>10</td>\n",
       "      <td>16</td>\n",
       "      <td>4</td>\n",
       "      <td>...</td>\n",
       "      <td>3.0</td>\n",
       "      <td>0.9127</td>\n",
       "      <td>0.2500</td>\n",
       "      <td>1</td>\n",
       "      <td>1</td>\n",
       "      <td>1</td>\n",
       "      <td>0.7500</td>\n",
       "      <td>7</td>\n",
       "      <td>1</td>\n",
       "      <td>1.3333</td>\n",
       "    </tr>\n",
       "    <tr>\n",
       "      <th>4</th>\n",
       "      <td>1</td>\n",
       "      <td>1373</td>\n",
       "      <td>3</td>\n",
       "      <td>1</td>\n",
       "      <td>0</td>\n",
       "      <td>9</td>\n",
       "      <td>0.0</td>\n",
       "      <td>8</td>\n",
       "      <td>130</td>\n",
       "      <td>52</td>\n",
       "      <td>...</td>\n",
       "      <td>1.0</td>\n",
       "      <td>1.2511</td>\n",
       "      <td>0.0000</td>\n",
       "      <td>0</td>\n",
       "      <td>1</td>\n",
       "      <td>4</td>\n",
       "      <td>0.1429</td>\n",
       "      <td>3</td>\n",
       "      <td>1</td>\n",
       "      <td>0.0000</td>\n",
       "    </tr>\n",
       "  </tbody>\n",
       "</table>\n",
       "<p>5 rows × 30 columns</p>\n",
       "</div>"
      ],
      "text/plain": [
       "   TARGET    ID  DerogCnt  CollectCnt  BanruptcyInd  InqCnt06  InqTimeLast  \\\n",
       "0       1   582         3           3             0         4          0.0   \n",
       "1       1   662        15           9             0         3          1.0   \n",
       "2       1   805         0           0             0         1          5.0   \n",
       "3       1  1175         8           5             0         6          1.0   \n",
       "4       1  1373         3           1             0         9          0.0   \n",
       "\n",
       "   InqFinanceCnt24  TLTimeFirst  TLTimeLast  ...  TL50UtilCnt  TLBalHCPct  \\\n",
       "0                5          117          27  ...          3.0      0.9179   \n",
       "1                3           14          14  ...          1.0      0.8000   \n",
       "2                1          354           7  ...          5.0      0.3552   \n",
       "3               10           16           4  ...          3.0      0.9127   \n",
       "4                8          130          52  ...          1.0      1.2511   \n",
       "\n",
       "   TLSatPct  TLDel3060Cnt24  TLDel90Cnt24  TLDel60CntAll  TLOpenPct  \\\n",
       "0    0.2083               2             3              7     0.2083   \n",
       "1    0.0000               0             0              0     1.0000   \n",
       "2    0.6538               0             1              1     0.7308   \n",
       "3    0.2500               1             1              1     0.7500   \n",
       "4    0.0000               0             1              4     0.1429   \n",
       "\n",
       "   TLBadDerogCnt  TLDel60Cnt24  TLOpen24Pct  \n",
       "0              4             4       0.0000  \n",
       "1             12             0       1.0000  \n",
       "2              1             1       0.5263  \n",
       "3              7             1       1.3333  \n",
       "4              3             1       0.0000  \n",
       "\n",
       "[5 rows x 30 columns]"
      ]
     },
     "execution_count": 238,
     "metadata": {},
     "output_type": "execute_result"
    }
   ],
   "source": [
    "dataset.head()"
   ]
  },
  {
   "cell_type": "code",
   "execution_count": 239,
   "id": "9907795d-c8a2-4e30-8927-d7a346b81ea6",
   "metadata": {},
   "outputs": [],
   "source": [
    "dataset = dataset.drop('ID',axis=1)"
   ]
  },
  {
   "cell_type": "code",
   "execution_count": 240,
   "id": "bb2dedbe-afb3-4d0a-9a58-cb8d243aee7b",
   "metadata": {},
   "outputs": [
    {
     "data": {
      "text/plain": [
       "TARGET               0\n",
       "DerogCnt             0\n",
       "CollectCnt           0\n",
       "BanruptcyInd         0\n",
       "InqCnt06             0\n",
       "InqTimeLast        188\n",
       "InqFinanceCnt24      0\n",
       "TLTimeFirst          0\n",
       "TLTimeLast           0\n",
       "TLCnt03              0\n",
       "TLCnt12              0\n",
       "TLCnt24              0\n",
       "TLCnt                3\n",
       "TLSum               40\n",
       "TLMaxSum            40\n",
       "TLSatCnt             4\n",
       "TLDel60Cnt           0\n",
       "TLBadCnt24           0\n",
       "TL75UtilCnt         99\n",
       "TL50UtilCnt         99\n",
       "TLBalHCPct          41\n",
       "TLSatPct             4\n",
       "TLDel3060Cnt24       0\n",
       "TLDel90Cnt24         0\n",
       "TLDel60CntAll        0\n",
       "TLOpenPct            3\n",
       "TLBadDerogCnt        0\n",
       "TLDel60Cnt24         0\n",
       "TLOpen24Pct          3\n",
       "dtype: int64"
      ]
     },
     "execution_count": 240,
     "metadata": {},
     "output_type": "execute_result"
    }
   ],
   "source": [
    "dataset.isna().sum()"
   ]
  },
  {
   "cell_type": "code",
   "execution_count": 241,
   "id": "47a71f81-296a-4fc4-912b-1ae6f8603544",
   "metadata": {},
   "outputs": [],
   "source": [
    "dataset = dataset.fillna(dataset.mean())"
   ]
  },
  {
   "cell_type": "code",
   "execution_count": 242,
   "id": "bcd83754-6a73-4ecf-b273-829466f6184d",
   "metadata": {},
   "outputs": [
    {
     "data": {
      "text/plain": [
       "TARGET             0\n",
       "DerogCnt           0\n",
       "CollectCnt         0\n",
       "BanruptcyInd       0\n",
       "InqCnt06           0\n",
       "InqTimeLast        0\n",
       "InqFinanceCnt24    0\n",
       "TLTimeFirst        0\n",
       "TLTimeLast         0\n",
       "TLCnt03            0\n",
       "TLCnt12            0\n",
       "TLCnt24            0\n",
       "TLCnt              0\n",
       "TLSum              0\n",
       "TLMaxSum           0\n",
       "TLSatCnt           0\n",
       "TLDel60Cnt         0\n",
       "TLBadCnt24         0\n",
       "TL75UtilCnt        0\n",
       "TL50UtilCnt        0\n",
       "TLBalHCPct         0\n",
       "TLSatPct           0\n",
       "TLDel3060Cnt24     0\n",
       "TLDel90Cnt24       0\n",
       "TLDel60CntAll      0\n",
       "TLOpenPct          0\n",
       "TLBadDerogCnt      0\n",
       "TLDel60Cnt24       0\n",
       "TLOpen24Pct        0\n",
       "dtype: int64"
      ]
     },
     "execution_count": 242,
     "metadata": {},
     "output_type": "execute_result"
    }
   ],
   "source": [
    "dataset.isna().sum()"
   ]
  },
  {
   "cell_type": "code",
   "execution_count": 243,
   "id": "ab8f14cf-a0ec-4d95-8822-5cacd98824e4",
   "metadata": {},
   "outputs": [
    {
     "data": {
      "text/html": [
       "<div>\n",
       "<style scoped>\n",
       "    .dataframe tbody tr th:only-of-type {\n",
       "        vertical-align: middle;\n",
       "    }\n",
       "\n",
       "    .dataframe tbody tr th {\n",
       "        vertical-align: top;\n",
       "    }\n",
       "\n",
       "    .dataframe thead th {\n",
       "        text-align: right;\n",
       "    }\n",
       "</style>\n",
       "<table border=\"1\" class=\"dataframe\">\n",
       "  <thead>\n",
       "    <tr style=\"text-align: right;\">\n",
       "      <th></th>\n",
       "      <th>TARGET</th>\n",
       "      <th>DerogCnt</th>\n",
       "      <th>CollectCnt</th>\n",
       "      <th>BanruptcyInd</th>\n",
       "      <th>InqCnt06</th>\n",
       "      <th>InqTimeLast</th>\n",
       "      <th>InqFinanceCnt24</th>\n",
       "      <th>TLTimeFirst</th>\n",
       "      <th>TLTimeLast</th>\n",
       "      <th>TLCnt03</th>\n",
       "      <th>...</th>\n",
       "      <th>TL50UtilCnt</th>\n",
       "      <th>TLBalHCPct</th>\n",
       "      <th>TLSatPct</th>\n",
       "      <th>TLDel3060Cnt24</th>\n",
       "      <th>TLDel90Cnt24</th>\n",
       "      <th>TLDel60CntAll</th>\n",
       "      <th>TLOpenPct</th>\n",
       "      <th>TLBadDerogCnt</th>\n",
       "      <th>TLDel60Cnt24</th>\n",
       "      <th>TLOpen24Pct</th>\n",
       "    </tr>\n",
       "  </thead>\n",
       "  <tbody>\n",
       "    <tr>\n",
       "      <th>0</th>\n",
       "      <td>1</td>\n",
       "      <td>3</td>\n",
       "      <td>3</td>\n",
       "      <td>0</td>\n",
       "      <td>4</td>\n",
       "      <td>0.0</td>\n",
       "      <td>5</td>\n",
       "      <td>117</td>\n",
       "      <td>27</td>\n",
       "      <td>0</td>\n",
       "      <td>...</td>\n",
       "      <td>3.0</td>\n",
       "      <td>0.9179</td>\n",
       "      <td>0.2083</td>\n",
       "      <td>2</td>\n",
       "      <td>3</td>\n",
       "      <td>7</td>\n",
       "      <td>0.2083</td>\n",
       "      <td>4</td>\n",
       "      <td>4</td>\n",
       "      <td>0.0000</td>\n",
       "    </tr>\n",
       "    <tr>\n",
       "      <th>1</th>\n",
       "      <td>1</td>\n",
       "      <td>15</td>\n",
       "      <td>9</td>\n",
       "      <td>0</td>\n",
       "      <td>3</td>\n",
       "      <td>1.0</td>\n",
       "      <td>3</td>\n",
       "      <td>14</td>\n",
       "      <td>14</td>\n",
       "      <td>0</td>\n",
       "      <td>...</td>\n",
       "      <td>1.0</td>\n",
       "      <td>0.8000</td>\n",
       "      <td>0.0000</td>\n",
       "      <td>0</td>\n",
       "      <td>0</td>\n",
       "      <td>0</td>\n",
       "      <td>1.0000</td>\n",
       "      <td>12</td>\n",
       "      <td>0</td>\n",
       "      <td>1.0000</td>\n",
       "    </tr>\n",
       "    <tr>\n",
       "      <th>2</th>\n",
       "      <td>1</td>\n",
       "      <td>0</td>\n",
       "      <td>0</td>\n",
       "      <td>0</td>\n",
       "      <td>1</td>\n",
       "      <td>5.0</td>\n",
       "      <td>1</td>\n",
       "      <td>354</td>\n",
       "      <td>7</td>\n",
       "      <td>0</td>\n",
       "      <td>...</td>\n",
       "      <td>5.0</td>\n",
       "      <td>0.3552</td>\n",
       "      <td>0.6538</td>\n",
       "      <td>0</td>\n",
       "      <td>1</td>\n",
       "      <td>1</td>\n",
       "      <td>0.7308</td>\n",
       "      <td>1</td>\n",
       "      <td>1</td>\n",
       "      <td>0.5263</td>\n",
       "    </tr>\n",
       "    <tr>\n",
       "      <th>3</th>\n",
       "      <td>1</td>\n",
       "      <td>8</td>\n",
       "      <td>5</td>\n",
       "      <td>0</td>\n",
       "      <td>6</td>\n",
       "      <td>1.0</td>\n",
       "      <td>10</td>\n",
       "      <td>16</td>\n",
       "      <td>4</td>\n",
       "      <td>0</td>\n",
       "      <td>...</td>\n",
       "      <td>3.0</td>\n",
       "      <td>0.9127</td>\n",
       "      <td>0.2500</td>\n",
       "      <td>1</td>\n",
       "      <td>1</td>\n",
       "      <td>1</td>\n",
       "      <td>0.7500</td>\n",
       "      <td>7</td>\n",
       "      <td>1</td>\n",
       "      <td>1.3333</td>\n",
       "    </tr>\n",
       "    <tr>\n",
       "      <th>4</th>\n",
       "      <td>1</td>\n",
       "      <td>3</td>\n",
       "      <td>1</td>\n",
       "      <td>0</td>\n",
       "      <td>9</td>\n",
       "      <td>0.0</td>\n",
       "      <td>8</td>\n",
       "      <td>130</td>\n",
       "      <td>52</td>\n",
       "      <td>0</td>\n",
       "      <td>...</td>\n",
       "      <td>1.0</td>\n",
       "      <td>1.2511</td>\n",
       "      <td>0.0000</td>\n",
       "      <td>0</td>\n",
       "      <td>1</td>\n",
       "      <td>4</td>\n",
       "      <td>0.1429</td>\n",
       "      <td>3</td>\n",
       "      <td>1</td>\n",
       "      <td>0.0000</td>\n",
       "    </tr>\n",
       "  </tbody>\n",
       "</table>\n",
       "<p>5 rows × 29 columns</p>\n",
       "</div>"
      ],
      "text/plain": [
       "   TARGET  DerogCnt  CollectCnt  BanruptcyInd  InqCnt06  InqTimeLast  \\\n",
       "0       1         3           3             0         4          0.0   \n",
       "1       1        15           9             0         3          1.0   \n",
       "2       1         0           0             0         1          5.0   \n",
       "3       1         8           5             0         6          1.0   \n",
       "4       1         3           1             0         9          0.0   \n",
       "\n",
       "   InqFinanceCnt24  TLTimeFirst  TLTimeLast  TLCnt03  ...  TL50UtilCnt  \\\n",
       "0                5          117          27        0  ...          3.0   \n",
       "1                3           14          14        0  ...          1.0   \n",
       "2                1          354           7        0  ...          5.0   \n",
       "3               10           16           4        0  ...          3.0   \n",
       "4                8          130          52        0  ...          1.0   \n",
       "\n",
       "   TLBalHCPct  TLSatPct  TLDel3060Cnt24  TLDel90Cnt24  TLDel60CntAll  \\\n",
       "0      0.9179    0.2083               2             3              7   \n",
       "1      0.8000    0.0000               0             0              0   \n",
       "2      0.3552    0.6538               0             1              1   \n",
       "3      0.9127    0.2500               1             1              1   \n",
       "4      1.2511    0.0000               0             1              4   \n",
       "\n",
       "   TLOpenPct  TLBadDerogCnt  TLDel60Cnt24  TLOpen24Pct  \n",
       "0     0.2083              4             4       0.0000  \n",
       "1     1.0000             12             0       1.0000  \n",
       "2     0.7308              1             1       0.5263  \n",
       "3     0.7500              7             1       1.3333  \n",
       "4     0.1429              3             1       0.0000  \n",
       "\n",
       "[5 rows x 29 columns]"
      ]
     },
     "execution_count": 243,
     "metadata": {},
     "output_type": "execute_result"
    }
   ],
   "source": [
    "dataset.shape\n",
    "dataset.head()"
   ]
  },
  {
   "cell_type": "code",
   "execution_count": 244,
   "id": "859c004e-4686-4bd2-9a9f-d89d6786a748",
   "metadata": {},
   "outputs": [
    {
     "data": {
      "text/plain": [
       "TARGET\n",
       "0    2500\n",
       "1     500\n",
       "Name: count, dtype: int64"
      ]
     },
     "execution_count": 244,
     "metadata": {},
     "output_type": "execute_result"
    }
   ],
   "source": [
    "dataset['TARGET'].value_counts()  ## count of good loans (0) and bad loans (1)"
   ]
  },
  {
   "cell_type": "code",
   "execution_count": 245,
   "id": "1ccfac56-a003-4918-8e49-3026192e355c",
   "metadata": {},
   "outputs": [
    {
     "data": {
      "text/html": [
       "<div>\n",
       "<style scoped>\n",
       "    .dataframe tbody tr th:only-of-type {\n",
       "        vertical-align: middle;\n",
       "    }\n",
       "\n",
       "    .dataframe tbody tr th {\n",
       "        vertical-align: top;\n",
       "    }\n",
       "\n",
       "    .dataframe thead th {\n",
       "        text-align: right;\n",
       "    }\n",
       "</style>\n",
       "<table border=\"1\" class=\"dataframe\">\n",
       "  <thead>\n",
       "    <tr style=\"text-align: right;\">\n",
       "      <th></th>\n",
       "      <th>DerogCnt</th>\n",
       "      <th>CollectCnt</th>\n",
       "      <th>BanruptcyInd</th>\n",
       "      <th>InqCnt06</th>\n",
       "      <th>InqTimeLast</th>\n",
       "      <th>InqFinanceCnt24</th>\n",
       "      <th>TLTimeFirst</th>\n",
       "      <th>TLTimeLast</th>\n",
       "      <th>TLCnt03</th>\n",
       "      <th>TLCnt12</th>\n",
       "      <th>...</th>\n",
       "      <th>TL50UtilCnt</th>\n",
       "      <th>TLBalHCPct</th>\n",
       "      <th>TLSatPct</th>\n",
       "      <th>TLDel3060Cnt24</th>\n",
       "      <th>TLDel90Cnt24</th>\n",
       "      <th>TLDel60CntAll</th>\n",
       "      <th>TLOpenPct</th>\n",
       "      <th>TLBadDerogCnt</th>\n",
       "      <th>TLDel60Cnt24</th>\n",
       "      <th>TLOpen24Pct</th>\n",
       "    </tr>\n",
       "    <tr>\n",
       "      <th>TARGET</th>\n",
       "      <th></th>\n",
       "      <th></th>\n",
       "      <th></th>\n",
       "      <th></th>\n",
       "      <th></th>\n",
       "      <th></th>\n",
       "      <th></th>\n",
       "      <th></th>\n",
       "      <th></th>\n",
       "      <th></th>\n",
       "      <th></th>\n",
       "      <th></th>\n",
       "      <th></th>\n",
       "      <th></th>\n",
       "      <th></th>\n",
       "      <th></th>\n",
       "      <th></th>\n",
       "      <th></th>\n",
       "      <th></th>\n",
       "      <th></th>\n",
       "      <th></th>\n",
       "    </tr>\n",
       "  </thead>\n",
       "  <tbody>\n",
       "    <tr>\n",
       "      <th>0</th>\n",
       "      <td>1.3224</td>\n",
       "      <td>0.7664</td>\n",
       "      <td>0.1492</td>\n",
       "      <td>2.9424</td>\n",
       "      <td>3.174638</td>\n",
       "      <td>3.2896</td>\n",
       "      <td>173.002</td>\n",
       "      <td>11.650</td>\n",
       "      <td>0.2844</td>\n",
       "      <td>1.832</td>\n",
       "      <td>...</td>\n",
       "      <td>3.986711</td>\n",
       "      <td>0.628177</td>\n",
       "      <td>0.544963</td>\n",
       "      <td>0.6044</td>\n",
       "      <td>0.6624</td>\n",
       "      <td>2.2236</td>\n",
       "      <td>0.502376</td>\n",
       "      <td>1.180</td>\n",
       "      <td>0.8648</td>\n",
       "      <td>0.556867</td>\n",
       "    </tr>\n",
       "    <tr>\n",
       "      <th>1</th>\n",
       "      <td>1.9680</td>\n",
       "      <td>1.3100</td>\n",
       "      <td>0.1740</td>\n",
       "      <td>3.9380</td>\n",
       "      <td>2.775459</td>\n",
       "      <td>4.8820</td>\n",
       "      <td>155.672</td>\n",
       "      <td>12.992</td>\n",
       "      <td>0.2280</td>\n",
       "      <td>1.768</td>\n",
       "      <td>...</td>\n",
       "      <td>4.533870</td>\n",
       "      <td>0.748185</td>\n",
       "      <td>0.385173</td>\n",
       "      <td>1.3340</td>\n",
       "      <td>1.5760</td>\n",
       "      <td>4.0140</td>\n",
       "      <td>0.465127</td>\n",
       "      <td>2.554</td>\n",
       "      <td>2.0860</td>\n",
       "      <td>0.600978</td>\n",
       "    </tr>\n",
       "  </tbody>\n",
       "</table>\n",
       "<p>2 rows × 28 columns</p>\n",
       "</div>"
      ],
      "text/plain": [
       "        DerogCnt  CollectCnt  BanruptcyInd  InqCnt06  InqTimeLast  \\\n",
       "TARGET                                                              \n",
       "0         1.3224      0.7664        0.1492    2.9424     3.174638   \n",
       "1         1.9680      1.3100        0.1740    3.9380     2.775459   \n",
       "\n",
       "        InqFinanceCnt24  TLTimeFirst  TLTimeLast  TLCnt03  TLCnt12  ...  \\\n",
       "TARGET                                                              ...   \n",
       "0                3.2896      173.002      11.650   0.2844    1.832  ...   \n",
       "1                4.8820      155.672      12.992   0.2280    1.768  ...   \n",
       "\n",
       "        TL50UtilCnt  TLBalHCPct  TLSatPct  TLDel3060Cnt24  TLDel90Cnt24  \\\n",
       "TARGET                                                                    \n",
       "0          3.986711    0.628177  0.544963          0.6044        0.6624   \n",
       "1          4.533870    0.748185  0.385173          1.3340        1.5760   \n",
       "\n",
       "        TLDel60CntAll  TLOpenPct  TLBadDerogCnt  TLDel60Cnt24  TLOpen24Pct  \n",
       "TARGET                                                                      \n",
       "0              2.2236   0.502376          1.180        0.8648     0.556867  \n",
       "1              4.0140   0.465127          2.554        2.0860     0.600978  \n",
       "\n",
       "[2 rows x 28 columns]"
      ]
     },
     "execution_count": 245,
     "metadata": {},
     "output_type": "execute_result"
    }
   ],
   "source": [
    "# # data summary across 0 & 1\n",
    "#dataset.groupby('TARGET')['DerogCnt'].mean()   \n",
    "dataset.groupby('TARGET').mean()"
   ]
  },
  {
   "cell_type": "markdown",
   "id": "d718a3b3-b8d1-486b-a95f-a222eb33e914",
   "metadata": {},
   "source": [
    "Train Test Split"
   ]
  },
  {
   "cell_type": "code",
   "execution_count": 254,
   "id": "bedb8600-26d0-415f-848f-178e129c2d47",
   "metadata": {},
   "outputs": [],
   "source": [
    "# df[start_row:end_row:step, start_col:end_col:step]\n",
    "\n",
    "y = dataset.iloc[:,0]\n",
    "x = dataset.iloc[:, 1:]\n"
   ]
  },
  {
   "cell_type": "code",
   "execution_count": 258,
   "id": "fd04cad6-b71a-4c3b-b56a-aa47e9452af6",
   "metadata": {},
   "outputs": [],
   "source": [
    "x_train, x_test, y_train, y_test = train_test_split(x,y,test_size=0.2, random_state = 0)        #The random_state=0 ensures that the same data points are used for testing every time the code is run."
   ]
  },
  {
   "cell_type": "code",
   "execution_count": 261,
   "id": "d8fc9439-91af-4934-848e-0d1cff2f1a07",
   "metadata": {},
   "outputs": [],
   "source": [
    "sc = StandardScaler()\n",
    "x_train = sc.fit_transform(x_train)\n",
    "x_test = sc.transform(x_test)"
   ]
  },
  {
   "cell_type": "markdown",
   "id": "0ce66523-9c1f-4b7c-b56a-f30e9388e5a6",
   "metadata": {},
   "source": [
    "Risk Model Building"
   ]
  },
  {
   "cell_type": "code",
   "execution_count": 264,
   "id": "9ec1a752-a26b-4008-87b4-a9a8809f2ab4",
   "metadata": {},
   "outputs": [],
   "source": [
    "classifier = LogisticRegression()\n",
    "classifier.fit(x_train, y_train)\n",
    "y_pred = classifier.predict(x_test)"
   ]
  },
  {
   "cell_type": "code",
   "execution_count": 266,
   "id": "6ec852ac-af87-4f61-9042-03f52d30093c",
   "metadata": {},
   "outputs": [
    {
     "name": "stdout",
     "output_type": "stream",
     "text": [
      "[[482  16]\n",
      " [ 88  14]]\n"
     ]
    }
   ],
   "source": [
    "print(confusion_matrix(y_test,y_pred))"
   ]
  },
  {
   "cell_type": "code",
   "execution_count": 268,
   "id": "46023e71-e25a-4247-839a-778f5d8c1278",
   "metadata": {},
   "outputs": [
    {
     "name": "stdout",
     "output_type": "stream",
     "text": [
      "0.8266666666666667\n"
     ]
    }
   ],
   "source": [
    "print(accuracy_score(y_test,y_pred))"
   ]
  },
  {
   "cell_type": "code",
   "execution_count": 270,
   "id": "0cc1bedd-3374-4247-be74-35ebdc16a744",
   "metadata": {},
   "outputs": [
    {
     "name": "stdout",
     "output_type": "stream",
     "text": [
      "0.21212121212121213\n"
     ]
    }
   ],
   "source": [
    "print(f1_score(y_test,y_pred))"
   ]
  },
  {
   "cell_type": "code",
   "execution_count": 272,
   "id": "c9d99b9d-711c-4dd4-b373-db28277ed24a",
   "metadata": {},
   "outputs": [
    {
     "name": "stdout",
     "output_type": "stream",
     "text": [
      "0.13725490196078433\n"
     ]
    }
   ],
   "source": [
    "print(recall_score(y_test,y_pred))"
   ]
  },
  {
   "cell_type": "code",
   "execution_count": 274,
   "id": "3c2781ff-31b9-444c-95b9-8b088debc0ad",
   "metadata": {},
   "outputs": [
    {
     "name": "stdout",
     "output_type": "stream",
     "text": [
      "0.4666666666666667\n"
     ]
    }
   ],
   "source": [
    "print(precision_score(y_test,y_pred))"
   ]
  },
  {
   "cell_type": "code",
   "execution_count": 276,
   "id": "ba90d1c9-5bb2-43c7-9c98-06a77325733c",
   "metadata": {},
   "outputs": [
    {
     "name": "stdout",
     "output_type": "stream",
     "text": [
      "0.5525631939522797\n"
     ]
    }
   ],
   "source": [
    "print(roc_auc_score(y_test,y_pred))"
   ]
  },
  {
   "cell_type": "code",
   "execution_count": 278,
   "id": "8f03b61a-bd55-46c9-bb0e-f12f2cb8734c",
   "metadata": {},
   "outputs": [],
   "source": [
    "from imblearn.over_sampling import SMOTE\n",
    "smote = SMOTE(random_state=0)\n",
    "x1, y1 = smote.fit_resample(x_train, y_train)  # New resampled training set\n"
   ]
  },
  {
   "cell_type": "code",
   "execution_count": 280,
   "id": "9cefd4de-26b7-4d4a-8904-c07c09e589af",
   "metadata": {},
   "outputs": [],
   "source": [
    "sc = StandardScaler()\n",
    "x1 = sc.fit_transform(x1)  # Fit on resampled training data\n",
    "x_test = sc.transform(x_test)  # Transform test data (NO fitting to prevent data leakage)\n"
   ]
  },
  {
   "cell_type": "code",
   "execution_count": 282,
   "id": "cd5eaabb-328b-4c8c-bf79-3f5d98d6a9a8",
   "metadata": {},
   "outputs": [],
   "source": [
    "model = LogisticRegression()\n",
    "model.fit(x1, y1)  # Train on resampled dataset\n",
    "y_pred = model.predict(x_test)  # Predict on test set\n",
    "y_pred = model.predict(x_test)  # Predict on test set"
   ]
  },
  {
   "cell_type": "code",
   "execution_count": 284,
   "id": "1a0671c4-eaaa-410b-8d56-5e76af72b3d6",
   "metadata": {},
   "outputs": [
    {
     "name": "stdout",
     "output_type": "stream",
     "text": [
      "Confusion Matrix:\n",
      " [[377 121]\n",
      " [ 34  68]]\n"
     ]
    }
   ],
   "source": [
    "# Confusion Matrix\n",
    "print(\"Confusion Matrix:\\n\", confusion_matrix(y_test, y_pred))"
   ]
  },
  {
   "cell_type": "code",
   "execution_count": 286,
   "id": "4a06144e-18d1-4be3-9e49-3bbe4543f621",
   "metadata": {},
   "outputs": [
    {
     "name": "stdout",
     "output_type": "stream",
     "text": [
      "0.46735395189003437\n"
     ]
    }
   ],
   "source": [
    "print(f1_score(y_test,y_pred))"
   ]
  },
  {
   "cell_type": "code",
   "execution_count": 288,
   "id": "2864c4e6-49ab-40ba-9a68-20fa19192dc8",
   "metadata": {},
   "outputs": [
    {
     "name": "stdout",
     "output_type": "stream",
     "text": [
      "0.6666666666666666\n"
     ]
    }
   ],
   "source": [
    "print(recall_score(y_test,y_pred))"
   ]
  },
  {
   "cell_type": "code",
   "execution_count": 290,
   "id": "7c477e5f-37d0-45a1-95af-241b797364bf",
   "metadata": {},
   "outputs": [
    {
     "name": "stdout",
     "output_type": "stream",
     "text": [
      "0.7118473895582329\n"
     ]
    }
   ],
   "source": [
    "print(roc_auc_score(y_test,y_pred))"
   ]
  },
  {
   "cell_type": "code",
   "execution_count": 292,
   "id": "9f9d0e9c-1fda-467f-9d05-d2d157848cd0",
   "metadata": {},
   "outputs": [
    {
     "data": {
      "text/plain": [
       "array([[0.07140028, 0.92859972],\n",
       "       [0.96018058, 0.03981942],\n",
       "       [0.78670793, 0.21329207],\n",
       "       ...,\n",
       "       [0.97986774, 0.02013226],\n",
       "       [0.57667678, 0.42332322],\n",
       "       [0.90654075, 0.09345925]])"
      ]
     },
     "execution_count": 292,
     "metadata": {},
     "output_type": "execute_result"
    }
   ],
   "source": [
    "predictions = classifier.predict_proba(x_test)\n",
    "predictions"
   ]
  },
  {
   "cell_type": "code",
   "execution_count": 299,
   "id": "a5723a4a-a8f8-49be-ad19-5959cd0f2abc",
   "metadata": {},
   "outputs": [
    {
     "name": "stdout",
     "output_type": "stream",
     "text": [
      "311     1\n",
      "1025    0\n",
      "1587    0\n",
      "2941    0\n",
      "2980    0\n",
      "Name: TARGET, dtype: int64\n",
      "RangeIndex(start=0, stop=600, step=1)\n",
      "RangeIndex(start=0, stop=600, step=1)\n",
      "RangeIndex(start=0, stop=600, step=1)\n"
     ]
    },
    {
     "data": {
      "text/html": [
       "<div>\n",
       "<style scoped>\n",
       "    .dataframe tbody tr th:only-of-type {\n",
       "        vertical-align: middle;\n",
       "    }\n",
       "\n",
       "    .dataframe tbody tr th {\n",
       "        vertical-align: top;\n",
       "    }\n",
       "\n",
       "    .dataframe thead th {\n",
       "        text-align: right;\n",
       "    }\n",
       "</style>\n",
       "<table border=\"1\" class=\"dataframe\">\n",
       "  <thead>\n",
       "    <tr style=\"text-align: right;\">\n",
       "      <th></th>\n",
       "      <th>TARGET</th>\n",
       "      <th>prob_0</th>\n",
       "      <th>prob_1</th>\n",
       "      <th>predicted_TARGET</th>\n",
       "    </tr>\n",
       "  </thead>\n",
       "  <tbody>\n",
       "    <tr>\n",
       "      <th>0</th>\n",
       "      <td>1</td>\n",
       "      <td>0.071400</td>\n",
       "      <td>0.928600</td>\n",
       "      <td>1</td>\n",
       "    </tr>\n",
       "    <tr>\n",
       "      <th>1</th>\n",
       "      <td>0</td>\n",
       "      <td>0.960181</td>\n",
       "      <td>0.039819</td>\n",
       "      <td>0</td>\n",
       "    </tr>\n",
       "    <tr>\n",
       "      <th>2</th>\n",
       "      <td>0</td>\n",
       "      <td>0.786708</td>\n",
       "      <td>0.213292</td>\n",
       "      <td>0</td>\n",
       "    </tr>\n",
       "    <tr>\n",
       "      <th>3</th>\n",
       "      <td>0</td>\n",
       "      <td>0.939565</td>\n",
       "      <td>0.060435</td>\n",
       "      <td>0</td>\n",
       "    </tr>\n",
       "    <tr>\n",
       "      <th>4</th>\n",
       "      <td>0</td>\n",
       "      <td>0.909347</td>\n",
       "      <td>0.090653</td>\n",
       "      <td>0</td>\n",
       "    </tr>\n",
       "  </tbody>\n",
       "</table>\n",
       "</div>"
      ],
      "text/plain": [
       "   TARGET    prob_0    prob_1  predicted_TARGET\n",
       "0       1  0.071400  0.928600                 1\n",
       "1       0  0.960181  0.039819                 0\n",
       "2       0  0.786708  0.213292                 0\n",
       "3       0  0.939565  0.060435                 0\n",
       "4       0  0.909347  0.090653                 0"
      ]
     },
     "execution_count": 299,
     "metadata": {},
     "output_type": "execute_result"
    }
   ],
   "source": [
    "# Check the first few rows of y_test to confirm it's in the correct format\n",
    "print(y_test.head())\n",
    "\n",
    "# Ensure that y_test is a pandas Series, and reset its index (if necessary) to avoid misalignment\n",
    "df_test_dataset = pd.DataFrame(y_test).reset_index(drop=True)\n",
    "\n",
    "# Check the index of the DataFrames to ensure they match\n",
    "print(df_test_dataset.index)\n",
    "print(df_prediction_prob.index)\n",
    "print(df_prediction_target.index)\n",
    "\n",
    "# Concatenate actual outcomes, predicted probabilities, and predicted class labels into one DataFrame\n",
    "dfx = pd.concat([df_test_dataset, df_prediction_prob, df_prediction_target], axis=1)\n",
    "\n",
    "# Save the DataFrame to a CSV file\n",
    "dfx.to_csv(r\"C:\\Users\\Shreya\\Downloads\\Credit_scoring_project\\results.csv\", sep=',', encoding='UTF-8', index=False)\n",
    "\n",
    "# Display the first few rows of the result DataFrame to verify everything is correct\n",
    "dfx.head()\n"
   ]
  },
  {
   "cell_type": "code",
   "execution_count": null,
   "id": "8ff04784-33ea-4550-8295-83de93a37dc9",
   "metadata": {},
   "outputs": [],
   "source": []
  }
 ],
 "metadata": {
  "kernelspec": {
   "display_name": "Python 3 (ipykernel)",
   "language": "python",
   "name": "python3"
  },
  "language_info": {
   "codemirror_mode": {
    "name": "ipython",
    "version": 3
   },
   "file_extension": ".py",
   "mimetype": "text/x-python",
   "name": "python",
   "nbconvert_exporter": "python",
   "pygments_lexer": "ipython3",
   "version": "3.12.4"
  }
 },
 "nbformat": 4,
 "nbformat_minor": 5
}
